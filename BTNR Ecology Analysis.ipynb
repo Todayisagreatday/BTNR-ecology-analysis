{
 "cells": [
  {
   "cell_type": "markdown",
   "metadata": {},
   "source": [
    "# Bukit Timah Nature Reserve Ecology Analysis"
   ]
  },
  {
   "cell_type": "markdown",
   "metadata": {},
   "source": [
    "<img src=\"https://i.imgur.com/tR9ULcO.png\" width=500 align=\"center\">"
   ]
  },
  {
   "cell_type": "markdown",
   "metadata": {},
   "source": [
    "# Contents \n",
    "1. [Preparing Data](#1.-Preparing-Data)<br> \n",
    "2. [Using the CTFS R Package](#2.-Using-the-CTFS-R-package)<br>\n",
    "3. [Data Wrangling](#3.-Data-Wrangling)<br>\n",
    "4. [Plotting distribution of species](#Task-1:-Plotting-distribution-of-species)<br>\n",
    "5. [Boxplot Plotting](#Task-2:-Boxplot-Plotting)<br>\n",
    "6. [Scatterplot plotting](#Task-3:-Scatterplot-plotting)<br>\n",
    "7. [Links for context](#7.-Links-for-context)"
   ]
  },
  {
   "cell_type": "markdown",
   "metadata": {},
   "source": [
    "# 1. Preparing Data "
   ]
  },
  {
   "cell_type": "code",
   "execution_count": 1,
   "metadata": {},
   "outputs": [
    {
     "name": "stderr",
     "output_type": "stream",
     "text": [
      "\n",
      "Attaching package: 'dplyr'\n",
      "\n",
      "The following objects are masked from 'package:stats':\n",
      "\n",
      "    filter, lag\n",
      "\n",
      "The following objects are masked from 'package:base':\n",
      "\n",
      "    intersect, setdiff, setequal, union\n",
      "\n",
      "\n",
      "Attaching package: 'plotly'\n",
      "\n",
      "The following object is masked from 'package:ggplot2':\n",
      "\n",
      "    last_plot\n",
      "\n",
      "The following object is masked from 'package:stats':\n",
      "\n",
      "    filter\n",
      "\n",
      "The following object is masked from 'package:graphics':\n",
      "\n",
      "    layout\n",
      "\n",
      "Loading required package: magrittr\n",
      "\n",
      "Attaching package: 'magrittr'\n",
      "\n",
      "The following object is masked from 'package:tidyr':\n",
      "\n",
      "    extract\n",
      "\n"
     ]
    }
   ],
   "source": [
    "library(ggplot2)\n",
    "library(dplyr)\n",
    "library(tidyr)\n",
    "library(plotly)\n",
    "library(ggpubr)\n",
    "options(warn=-1)"
   ]
  },
  {
   "cell_type": "code",
   "execution_count": 2,
   "metadata": {},
   "outputs": [],
   "source": [
    "load('C:/Users/delim/Desktop/T.ECOLOGY R-package/Ecology Analysis and Dataset/bts.full1.rdata')\n",
    "load('C:/Users/delim/Desktop/T.ECOLOGY R-package/Ecology Analysis and Dataset/bts.full2.rdata')\n",
    "load('C:/Users/delim/Desktop/T.ECOLOGY R-package/Ecology Analysis and Dataset/bts.full3.rdata')\n",
    "\n",
    "load('C:/Users/delim/Desktop/T.ECOLOGY R-package/Ecology Analysis and Dataset/btp.spptable.rdata')\n",
    "load('C:/Users/delim/Desktop/T.ECOLOGY R-package/Ecology Analysis and Dataset/btp.full1.rdata')\n",
    "load('C:/Users/delim/Desktop/T.ECOLOGY R-package/Ecology Analysis and Dataset/btp.full2.rdata')\n",
    "load('C:/Users/delim/Desktop/T.ECOLOGY R-package/Ecology Analysis and Dataset/btp.full4.rdata')\n",
    "load('C:/Users/delim/Desktop/T.ECOLOGY R-package/Ecology Analysis and Dataset/btp.full5.rdata')\n",
    "\n",
    "load('C:/Users/delim/Desktop/T.ECOLOGY R-package/Ecology Analysis and Dataset/CTFSRPackage.rdata')\n"
   ]
  },
  {
   "cell_type": "code",
   "execution_count": 3,
   "metadata": {},
   "outputs": [
    {
     "data": {
      "text/html": [
       "<table>\n",
       "<thead><tr><th scope=col>treeID</th><th scope=col>stemID</th><th scope=col>tag</th><th scope=col>StemTag</th><th scope=col>sp</th><th scope=col>quadrat</th><th scope=col>gx</th><th scope=col>gy</th><th scope=col>MeasureID</th><th scope=col>CensusID</th><th scope=col>dbh</th><th scope=col>pom</th><th scope=col>hom</th><th scope=col>ExactDate</th><th scope=col>DFstatus</th><th scope=col>codes</th><th scope=col>nostems</th><th scope=col>status</th><th scope=col>date</th><th scope=col>agb</th></tr></thead>\n",
       "<tbody>\n",
       "\t<tr><td>10243       </td><td>1           </td><td>1541        </td><td>            </td><td>NEOSKI      </td><td>C1          </td><td>55.6        </td><td>18.3        </td><td>12621       </td><td>6           </td><td> NA         </td><td>0           </td><td>0.0         </td><td>2007-12-28  </td><td>dead        </td><td>D           </td><td>1           </td><td>D           </td><td>17528       </td><td>0.0000000000</td></tr>\n",
       "\t<tr><td>10244       </td><td>1           </td><td>1542        </td><td>            </td><td>MEMEPU      </td><td>C1          </td><td>55.2        </td><td>17.8        </td><td>12620       </td><td>6           </td><td> NA         </td><td>0           </td><td>0.0         </td><td>2007-12-28  </td><td>dead        </td><td>D           </td><td>1           </td><td>D           </td><td>17528       </td><td>0.0000000000</td></tr>\n",
       "\t<tr><td>10245       </td><td>1           </td><td>1543        </td><td>            </td><td>POPOTO      </td><td>C1          </td><td>55.4        </td><td>16.4        </td><td>12619       </td><td>6           </td><td>175         </td><td>1.3         </td><td>1.3         </td><td>2007-12-28  </td><td>alive       </td><td>NA          </td><td>1           </td><td>A           </td><td>17528       </td><td>0.1606039897</td></tr>\n",
       "\t<tr><td>10246       </td><td>1           </td><td>1544        </td><td>            </td><td>CANAPA      </td><td>C1          </td><td>56.8        </td><td>15.9        </td><td>12618       </td><td>6           </td><td>128         </td><td>1.3         </td><td>1.3         </td><td>2007-12-28  </td><td>alive       </td><td>NA          </td><td>1           </td><td>A           </td><td>17528       </td><td>0.0701080768</td></tr>\n",
       "\t<tr><td>10247       </td><td>1           </td><td>1545        </td><td>            </td><td>CANAPA      </td><td>C1          </td><td>57.6        </td><td>15.0        </td><td>12617       </td><td>6           </td><td> 15         </td><td>1.3         </td><td>1.3         </td><td>2007-12-28  </td><td>alive       </td><td>NA          </td><td>1           </td><td>A           </td><td>17528       </td><td>0.0003003303</td></tr>\n",
       "\t<tr><td>10248       </td><td>1           </td><td>1547        </td><td>            </td><td>STREEL      </td><td>C1          </td><td>57.7        </td><td>16.1        </td><td>12616       </td><td>6           </td><td> 13         </td><td>1.3         </td><td>1.3         </td><td>2007-12-28  </td><td>alive       </td><td>NA          </td><td>1           </td><td>A           </td><td>17528       </td><td>0.0003282197</td></tr>\n",
       "</tbody>\n",
       "</table>\n"
      ],
      "text/latex": [
       "\\begin{tabular}{r|llllllllllllllllllll}\n",
       " treeID & stemID & tag & StemTag & sp & quadrat & gx & gy & MeasureID & CensusID & dbh & pom & hom & ExactDate & DFstatus & codes & nostems & status & date & agb\\\\\n",
       "\\hline\n",
       "\t 10243        & 1            & 1541         &              & NEOSKI       & C1           & 55.6         & 18.3         & 12621        & 6            &  NA          & 0            & 0.0          & 2007-12-28   & dead         & D            & 1            & D            & 17528        & 0.0000000000\\\\\n",
       "\t 10244        & 1            & 1542         &              & MEMEPU       & C1           & 55.2         & 17.8         & 12620        & 6            &  NA          & 0            & 0.0          & 2007-12-28   & dead         & D            & 1            & D            & 17528        & 0.0000000000\\\\\n",
       "\t 10245        & 1            & 1543         &              & POPOTO       & C1           & 55.4         & 16.4         & 12619        & 6            & 175          & 1.3          & 1.3          & 2007-12-28   & alive        & NA           & 1            & A            & 17528        & 0.1606039897\\\\\n",
       "\t 10246        & 1            & 1544         &              & CANAPA       & C1           & 56.8         & 15.9         & 12618        & 6            & 128          & 1.3          & 1.3          & 2007-12-28   & alive        & NA           & 1            & A            & 17528        & 0.0701080768\\\\\n",
       "\t 10247        & 1            & 1545         &              & CANAPA       & C1           & 57.6         & 15.0         & 12617        & 6            &  15          & 1.3          & 1.3          & 2007-12-28   & alive        & NA           & 1            & A            & 17528        & 0.0003003303\\\\\n",
       "\t 10248        & 1            & 1547         &              & STREEL       & C1           & 57.7         & 16.1         & 12616        & 6            &  13          & 1.3          & 1.3          & 2007-12-28   & alive        & NA           & 1            & A            & 17528        & 0.0003282197\\\\\n",
       "\\end{tabular}\n"
      ],
      "text/markdown": [
       "\n",
       "| treeID | stemID | tag | StemTag | sp | quadrat | gx | gy | MeasureID | CensusID | dbh | pom | hom | ExactDate | DFstatus | codes | nostems | status | date | agb |\n",
       "|---|---|---|---|---|---|---|---|---|---|---|---|---|---|---|---|---|---|---|---|\n",
       "| 10243        | 1            | 1541         |              | NEOSKI       | C1           | 55.6         | 18.3         | 12621        | 6            |  NA          | 0            | 0.0          | 2007-12-28   | dead         | D            | 1            | D            | 17528        | 0.0000000000 |\n",
       "| 10244        | 1            | 1542         |              | MEMEPU       | C1           | 55.2         | 17.8         | 12620        | 6            |  NA          | 0            | 0.0          | 2007-12-28   | dead         | D            | 1            | D            | 17528        | 0.0000000000 |\n",
       "| 10245        | 1            | 1543         |              | POPOTO       | C1           | 55.4         | 16.4         | 12619        | 6            | 175          | 1.3          | 1.3          | 2007-12-28   | alive        | NA           | 1            | A            | 17528        | 0.1606039897 |\n",
       "| 10246        | 1            | 1544         |              | CANAPA       | C1           | 56.8         | 15.9         | 12618        | 6            | 128          | 1.3          | 1.3          | 2007-12-28   | alive        | NA           | 1            | A            | 17528        | 0.0701080768 |\n",
       "| 10247        | 1            | 1545         |              | CANAPA       | C1           | 57.6         | 15.0         | 12617        | 6            |  15          | 1.3          | 1.3          | 2007-12-28   | alive        | NA           | 1            | A            | 17528        | 0.0003003303 |\n",
       "| 10248        | 1            | 1547         |              | STREEL       | C1           | 57.7         | 16.1         | 12616        | 6            |  13          | 1.3          | 1.3          | 2007-12-28   | alive        | NA           | 1            | A            | 17528        | 0.0003282197 |\n",
       "\n"
      ],
      "text/plain": [
       "  treeID stemID tag  StemTag sp     quadrat gx   gy   MeasureID CensusID dbh\n",
       "1 10243  1      1541         NEOSKI C1      55.6 18.3 12621     6         NA\n",
       "2 10244  1      1542         MEMEPU C1      55.2 17.8 12620     6         NA\n",
       "3 10245  1      1543         POPOTO C1      55.4 16.4 12619     6        175\n",
       "4 10246  1      1544         CANAPA C1      56.8 15.9 12618     6        128\n",
       "5 10247  1      1545         CANAPA C1      57.6 15.0 12617     6         15\n",
       "6 10248  1      1547         STREEL C1      57.7 16.1 12616     6         13\n",
       "  pom hom ExactDate  DFstatus codes nostems status date  agb         \n",
       "1 0   0.0 2007-12-28 dead     D     1       D      17528 0.0000000000\n",
       "2 0   0.0 2007-12-28 dead     D     1       D      17528 0.0000000000\n",
       "3 1.3 1.3 2007-12-28 alive    NA    1       A      17528 0.1606039897\n",
       "4 1.3 1.3 2007-12-28 alive    NA    1       A      17528 0.0701080768\n",
       "5 1.3 1.3 2007-12-28 alive    NA    1       A      17528 0.0003003303\n",
       "6 1.3 1.3 2007-12-28 alive    NA    1       A      17528 0.0003282197"
      ]
     },
     "metadata": {},
     "output_type": "display_data"
    }
   ],
   "source": [
    "head(bukittimahprimary.full5)"
   ]
  },
  {
   "cell_type": "markdown",
   "metadata": {},
   "source": [
    "# 2. Using the CTFS R package"
   ]
  },
  {
   "cell_type": "markdown",
   "metadata": {},
   "source": [
    "### Calculating recruitment rates between 2 censuses for 1 species"
   ]
  },
  {
   "cell_type": "code",
   "execution_count": 4,
   "metadata": {},
   "outputs": [],
   "source": [
    "recruit45KNEMPA <- recruitment(bukittimahprimary.full4, bukittimahprimary.full5, split1 = bukittimahprimary.full1$KNEMPA)"
   ]
  },
  {
   "cell_type": "markdown",
   "metadata": {},
   "source": [
    "### Calculating recruitment rates betweeen 2 censuses for all species"
   ]
  },
  {
   "cell_type": "markdown",
   "metadata": {},
   "source": [
    "Primary forest between full1 & full2, full2 & full4, full4 & full5"
   ]
  },
  {
   "cell_type": "code",
   "execution_count": 5,
   "metadata": {},
   "outputs": [],
   "source": [
    "recruitment12.df <- data.frame(recruitment(bukittimahprimary.full1, bukittimahprimary.full2, split1 = bukittimahprimary.full1$sp))"
   ]
  },
  {
   "cell_type": "code",
   "execution_count": 6,
   "metadata": {},
   "outputs": [],
   "source": [
    "recruitment24.df <- data.frame(recruitment(bukittimahprimary.full2, bukittimahprimary.full4, split1 = bukittimahprimary.full2$sp))"
   ]
  },
  {
   "cell_type": "code",
   "execution_count": 7,
   "metadata": {},
   "outputs": [],
   "source": [
    "recruitment45.df <- data.frame(recruitment(bukittimahprimary.full4, bukittimahprimary.full5, split1 = bukittimahprimary.full4$sp))"
   ]
  },
  {
   "cell_type": "markdown",
   "metadata": {},
   "source": [
    "Secondary forest between full1 & full2, full2 & full3 "
   ]
  },
  {
   "cell_type": "code",
   "execution_count": 8,
   "metadata": {},
   "outputs": [],
   "source": [
    "s_recruitment12.df <- data.frame(recruitment(bukit_timah_secondary.full1, bukit_timah_secondary.full2, split1 = bukit_timah_secondary.full1$sp))"
   ]
  },
  {
   "cell_type": "code",
   "execution_count": 9,
   "metadata": {},
   "outputs": [],
   "source": [
    "s_recruitment23.df <- data.frame(recruitment(bukit_timah_secondary.full2, bukit_timah_secondary.full3, split1 = bukit_timah_secondary.full2$sp))"
   ]
  },
  {
   "cell_type": "markdown",
   "metadata": {},
   "source": [
    "### Calculating recruitment rate between 2 censuses as a whole forest"
   ]
  },
  {
   "cell_type": "code",
   "execution_count": 10,
   "metadata": {},
   "outputs": [
    {
     "data": {
      "text/html": [
       "<dl>\n",
       "\t<dt>$N2</dt>\n",
       "\t\t<dd>13840</dd>\n",
       "\t<dt>$R</dt>\n",
       "\t\t<dd>1615</dd>\n",
       "\t<dt>$rate</dt>\n",
       "\t\t<dd>0.0488421899410416</dd>\n",
       "\t<dt>$lower</dt>\n",
       "\t\t<dd>0.0465134237256798</dd>\n",
       "\t<dt>$upper</dt>\n",
       "\t\t<dd>0.0512815079416113</dd>\n",
       "\t<dt>$time</dt>\n",
       "\t\t<dd>2.54042488631995</dd>\n",
       "\t<dt>$date1</dt>\n",
       "\t\t<dd>12199.5736116288</dd>\n",
       "\t<dt>$date2</dt>\n",
       "\t\t<dd>13127.0123083726</dd>\n",
       "</dl>\n"
      ],
      "text/latex": [
       "\\begin{description}\n",
       "\\item[\\$N2] 13840\n",
       "\\item[\\$R] 1615\n",
       "\\item[\\$rate] 0.0488421899410416\n",
       "\\item[\\$lower] 0.0465134237256798\n",
       "\\item[\\$upper] 0.0512815079416113\n",
       "\\item[\\$time] 2.54042488631995\n",
       "\\item[\\$date1] 12199.5736116288\n",
       "\\item[\\$date2] 13127.0123083726\n",
       "\\end{description}\n"
      ],
      "text/markdown": [
       "$N2\n",
       ":   13840\n",
       "$R\n",
       ":   1615\n",
       "$rate\n",
       ":   0.0488421899410416\n",
       "$lower\n",
       ":   0.0465134237256798\n",
       "$upper\n",
       ":   0.0512815079416113\n",
       "$time\n",
       ":   2.54042488631995\n",
       "$date1\n",
       ":   12199.5736116288\n",
       "$date2\n",
       ":   13127.0123083726\n",
       "\n",
       "\n"
      ],
      "text/plain": [
       "$N2\n",
       "[1] 13840\n",
       "\n",
       "$R\n",
       "[1] 1615\n",
       "\n",
       "$rate\n",
       "[1] 0.04884219\n",
       "\n",
       "$lower\n",
       "[1] 0.04651342\n",
       "\n",
       "$upper\n",
       "[1] 0.05128151\n",
       "\n",
       "$time\n",
       "[1] 2.540425\n",
       "\n",
       "$date1\n",
       "[1] 12199.57\n",
       "\n",
       "$date2\n",
       "[1] 13127.01\n"
      ]
     },
     "metadata": {},
     "output_type": "display_data"
    }
   ],
   "source": [
    "recruitment(bukittimahprimary.full1, bukittimahprimary.full2)"
   ]
  },
  {
   "cell_type": "markdown",
   "metadata": {},
   "source": [
    "### Calculating mortality rates betweeen 2 censuses for all species"
   ]
  },
  {
   "cell_type": "code",
   "execution_count": 11,
   "metadata": {},
   "outputs": [],
   "source": [
    "mortality12.df <- mortality(bukittimahprimary.full1, bukittimahprimary.full2, split1 = bukittimahprimary.full1$sp)"
   ]
  },
  {
   "cell_type": "markdown",
   "metadata": {},
   "source": [
    "### Calculating mortality rate between 2 censuses as a whole forest"
   ]
  },
  {
   "cell_type": "code",
   "execution_count": 12,
   "metadata": {},
   "outputs": [
    {
     "data": {
      "text/html": [
       "<dl>\n",
       "\t<dt>$N</dt>\n",
       "\t\t<dd>13468</dd>\n",
       "\t<dt>$D</dt>\n",
       "\t\t<dd>442</dd>\n",
       "\t<dt>$rate</dt>\n",
       "\t\t<dd>0.0131330414382572</dd>\n",
       "\t<dt>$lower</dt>\n",
       "\t\t<dd>0.0119644597477152</dd>\n",
       "\t<dt>$upper</dt>\n",
       "\t\t<dd>0.0144153543650393</dd>\n",
       "\t<dt>$time</dt>\n",
       "\t\t<dd>2.54085402315197</dd>\n",
       "\t<dt>$date1</dt>\n",
       "\t\t<dd>12199.5736116288</dd>\n",
       "\t<dt>$date2</dt>\n",
       "\t\t<dd>13127.1998784933</dd>\n",
       "\t<dt>$dbhmean</dt>\n",
       "\t\t<dd>38.7887290546949</dd>\n",
       "</dl>\n"
      ],
      "text/latex": [
       "\\begin{description}\n",
       "\\item[\\$N] 13468\n",
       "\\item[\\$D] 442\n",
       "\\item[\\$rate] 0.0131330414382572\n",
       "\\item[\\$lower] 0.0119644597477152\n",
       "\\item[\\$upper] 0.0144153543650393\n",
       "\\item[\\$time] 2.54085402315197\n",
       "\\item[\\$date1] 12199.5736116288\n",
       "\\item[\\$date2] 13127.1998784933\n",
       "\\item[\\$dbhmean] 38.7887290546949\n",
       "\\end{description}\n"
      ],
      "text/markdown": [
       "$N\n",
       ":   13468\n",
       "$D\n",
       ":   442\n",
       "$rate\n",
       ":   0.0131330414382572\n",
       "$lower\n",
       ":   0.0119644597477152\n",
       "$upper\n",
       ":   0.0144153543650393\n",
       "$time\n",
       ":   2.54085402315197\n",
       "$date1\n",
       ":   12199.5736116288\n",
       "$date2\n",
       ":   13127.1998784933\n",
       "$dbhmean\n",
       ":   38.7887290546949\n",
       "\n",
       "\n"
      ],
      "text/plain": [
       "$N\n",
       "[1] 13468\n",
       "\n",
       "$D\n",
       "[1] 442\n",
       "\n",
       "$rate\n",
       "[1] 0.01313304\n",
       "\n",
       "$lower\n",
       "[1] 0.01196446\n",
       "\n",
       "$upper\n",
       "[1] 0.01441535\n",
       "\n",
       "$time\n",
       "[1] 2.540854\n",
       "\n",
       "$date1\n",
       "[1] 12199.57\n",
       "\n",
       "$date2\n",
       "[1] 13127.2\n",
       "\n",
       "$dbhmean\n",
       "[1] 38.78873\n"
      ]
     },
     "metadata": {},
     "output_type": "display_data"
    }
   ],
   "source": [
    "mortality(bukittimahprimary.full1, bukittimahprimary.full2)"
   ]
  },
  {
   "cell_type": "markdown",
   "metadata": {},
   "source": [
    "### Calculating growth rates "
   ]
  },
  {
   "cell_type": "code",
   "execution_count": 13,
   "metadata": {},
   "outputs": [
    {
     "data": {
      "text/html": [
       "<dl>\n",
       "\t<dt>$rate</dt>\n",
       "\t\t<dd>1.08979036799279</dd>\n",
       "\t<dt>$N</dt>\n",
       "\t\t<dd>10738</dd>\n",
       "\t<dt>$clim</dt>\n",
       "\t\t<dd>0.041878458752347</dd>\n",
       "\t<dt>$dbhmean</dt>\n",
       "\t\t<dd>38.5016762898119</dd>\n",
       "\t<dt>$time</dt>\n",
       "\t\t<dd>2.53753766042772</dd>\n",
       "\t<dt>$date1</dt>\n",
       "\t\t<dd>12199.441516111</dd>\n",
       "\t<dt>$date2</dt>\n",
       "\t\t<dd>13126.2771465822</dd>\n",
       "</dl>\n"
      ],
      "text/latex": [
       "\\begin{description}\n",
       "\\item[\\$rate] 1.08979036799279\n",
       "\\item[\\$N] 10738\n",
       "\\item[\\$clim] 0.041878458752347\n",
       "\\item[\\$dbhmean] 38.5016762898119\n",
       "\\item[\\$time] 2.53753766042772\n",
       "\\item[\\$date1] 12199.441516111\n",
       "\\item[\\$date2] 13126.2771465822\n",
       "\\end{description}\n"
      ],
      "text/markdown": [
       "$rate\n",
       ":   1.08979036799279\n",
       "$N\n",
       ":   10738\n",
       "$clim\n",
       ":   0.041878458752347\n",
       "$dbhmean\n",
       ":   38.5016762898119\n",
       "$time\n",
       ":   2.53753766042772\n",
       "$date1\n",
       ":   12199.441516111\n",
       "$date2\n",
       ":   13126.2771465822\n",
       "\n",
       "\n"
      ],
      "text/plain": [
       "$rate\n",
       "[1] 1.08979\n",
       "\n",
       "$N\n",
       "[1] 10738\n",
       "\n",
       "$clim\n",
       "[1] 0.04187846\n",
       "\n",
       "$dbhmean\n",
       "[1] 38.50168\n",
       "\n",
       "$time\n",
       "[1] 2.537538\n",
       "\n",
       "$date1\n",
       "[1] 12199.44\n",
       "\n",
       "$date2\n",
       "[1] 13126.28\n"
      ]
     },
     "metadata": {},
     "output_type": "display_data"
    }
   ],
   "source": [
    "growth(bukittimahprimary.full1, bukittimahprimary.full2, method = 'I')"
   ]
  },
  {
   "cell_type": "code",
   "execution_count": 14,
   "metadata": {},
   "outputs": [
    {
     "data": {
      "text/html": [
       "<dl>\n",
       "\t<dt>$rate</dt>\n",
       "\t\t<dd>0.0367973095349228</dd>\n",
       "\t<dt>$N</dt>\n",
       "\t\t<dd>10738</dd>\n",
       "\t<dt>$clim</dt>\n",
       "\t\t<dd>0.00110964654713664</dd>\n",
       "\t<dt>$dbhmean</dt>\n",
       "\t\t<dd>38.5016762898119</dd>\n",
       "\t<dt>$time</dt>\n",
       "\t\t<dd>2.53753766042772</dd>\n",
       "\t<dt>$date1</dt>\n",
       "\t\t<dd>12199.441516111</dd>\n",
       "\t<dt>$date2</dt>\n",
       "\t\t<dd>13126.2771465822</dd>\n",
       "</dl>\n"
      ],
      "text/latex": [
       "\\begin{description}\n",
       "\\item[\\$rate] 0.0367973095349228\n",
       "\\item[\\$N] 10738\n",
       "\\item[\\$clim] 0.00110964654713664\n",
       "\\item[\\$dbhmean] 38.5016762898119\n",
       "\\item[\\$time] 2.53753766042772\n",
       "\\item[\\$date1] 12199.441516111\n",
       "\\item[\\$date2] 13126.2771465822\n",
       "\\end{description}\n"
      ],
      "text/markdown": [
       "$rate\n",
       ":   0.0367973095349228\n",
       "$N\n",
       ":   10738\n",
       "$clim\n",
       ":   0.00110964654713664\n",
       "$dbhmean\n",
       ":   38.5016762898119\n",
       "$time\n",
       ":   2.53753766042772\n",
       "$date1\n",
       ":   12199.441516111\n",
       "$date2\n",
       ":   13126.2771465822\n",
       "\n",
       "\n"
      ],
      "text/plain": [
       "$rate\n",
       "[1] 0.03679731\n",
       "\n",
       "$N\n",
       "[1] 10738\n",
       "\n",
       "$clim\n",
       "[1] 0.001109647\n",
       "\n",
       "$dbhmean\n",
       "[1] 38.50168\n",
       "\n",
       "$time\n",
       "[1] 2.537538\n",
       "\n",
       "$date1\n",
       "[1] 12199.44\n",
       "\n",
       "$date2\n",
       "[1] 13126.28\n"
      ]
     },
     "metadata": {},
     "output_type": "display_data"
    }
   ],
   "source": [
    "growth(bukittimahprimary.full1, bukittimahprimary.full2, method = 'E')"
   ]
  },
  {
   "cell_type": "code",
   "execution_count": 15,
   "metadata": {},
   "outputs": [],
   "source": [
    "p_growth12.df <- data.frame(growth(bukittimahprimary.full1, bukittimahprimary.full2, split1 = bukittimahprimary.full1$sp))\n",
    "p_growth24.df <- data.frame(growth(bukittimahprimary.full2, bukittimahprimary.full4, split1 = bukittimahprimary.full2$sp))\n",
    "p_growth45.df <- data.frame(growth(bukittimahprimary.full4, bukittimahprimary.full5, split1 = bukittimahprimary.full4$sp))\n",
    "\n",
    "s_growth12.df <- data.frame(growth(bukit_timah_secondary.full1, bukit_timah_secondary.full2, split1 = bukit_timah_secondary.full1$sp))\n",
    "s_growth23.df <- data.frame(growth(bukit_timah_secondary.full2, bukit_timah_secondary.full3, split1 = bukit_timah_secondary.full2$sp))"
   ]
  },
  {
   "cell_type": "code",
   "execution_count": 16,
   "metadata": {},
   "outputs": [],
   "source": [
    "\n",
    "# write.csv(p_growth12.df, file = \"Sendable/p_growth12.csv\")\n",
    "# write.csv(p_growth24.df, file = \"Sendable/p_growth24.csv\")\n",
    "# write.csv(p_growth45.df, file = \"Sendable/p_growth45.csv\")\n",
    "\n",
    "# write.csv(s_growth12.df, file = \"Sendable/s_growth12.csv\")\n",
    "# write.csv(s_growth23.df, file = \"Sendable/s_growth23.csv\")"
   ]
  },
  {
   "cell_type": "code",
   "execution_count": 17,
   "metadata": {},
   "outputs": [],
   "source": [
    "# write.csv(data.frame(recruitment12.df), file = \"Sendable/p_recruitment12.csv\")\n",
    "# write.csv(data.frame(recruitment24.df), file = \"Sendable/p_recruitment24.csv\")\n",
    "# write.csv(data.frame(recruitment45.df), file = \"Sendable/p_recruitment45.csv\")\n",
    "# write.csv(data.frame(s_recruitment12.df), file = \"Sendable/s_recruitment12.df.csv\")\n",
    "# write.csv(data.frame(s_recruitment23.df), file = \"Sendable/s_recruitment23.df.csv\")"
   ]
  },
  {
   "cell_type": "code",
   "execution_count": 18,
   "metadata": {},
   "outputs": [
    {
     "data": {
      "text/html": [
       "<dl>\n",
       "\t<dt>$rate</dt>\n",
       "\t\t<dd><dl class=dl-horizontal>\n",
       "\t<dt>(10,100]</dt>\n",
       "\t\t<dd>0.938725729892432</dd>\n",
       "\t<dt>(100,300]</dt>\n",
       "\t\t<dd>3.1058219425545</dd>\n",
       "\t<dt>(300,1e+03]</dt>\n",
       "\t\t<dd>4.77780389570271</dd>\n",
       "\t<dt>(1e+03,1e+04]</dt>\n",
       "\t\t<dd>3.60554139418983</dd>\n",
       "</dl>\n",
       "</dd>\n",
       "\t<dt>$N</dt>\n",
       "\t\t<dd><dl class=dl-horizontal>\n",
       "\t<dt>(10,100]</dt>\n",
       "\t\t<dd>9019</dd>\n",
       "\t<dt>(100,300]</dt>\n",
       "\t\t<dd>513</dd>\n",
       "\t<dt>(300,1e+03]</dt>\n",
       "\t\t<dd>159</dd>\n",
       "\t<dt>(1e+03,1e+04]</dt>\n",
       "\t\t<dd>5</dd>\n",
       "</dl>\n",
       "</dd>\n",
       "\t<dt>$clim</dt>\n",
       "\t\t<dd><dl class=dl-horizontal>\n",
       "\t<dt>(10,100]</dt>\n",
       "\t\t<dd>0.0368953245034573</dd>\n",
       "\t<dt>(100,300]</dt>\n",
       "\t\t<dd>0.341562110590602</dd>\n",
       "\t<dt>(300,1e+03]</dt>\n",
       "\t\t<dd>0.884579721321775</dd>\n",
       "\t<dt>(1e+03,1e+04]</dt>\n",
       "\t\t<dd>2.63286966825124</dd>\n",
       "</dl>\n",
       "</dd>\n",
       "\t<dt>$dbhmean</dt>\n",
       "\t\t<dd><dl class=dl-horizontal>\n",
       "\t<dt>(10,100]</dt>\n",
       "\t\t<dd>25.9361348264774</dd>\n",
       "\t<dt>(100,300]</dt>\n",
       "\t\t<dd>170.148148148148</dd>\n",
       "\t<dt>(300,1e+03]</dt>\n",
       "\t\t<dd>477.698113207547</dd>\n",
       "\t<dt>(1e+03,1e+04]</dt>\n",
       "\t\t<dd>1170.6</dd>\n",
       "</dl>\n",
       "</dd>\n",
       "\t<dt>$time</dt>\n",
       "\t\t<dd><dl class=dl-horizontal>\n",
       "\t<dt>(10,100]</dt>\n",
       "\t\t<dd>2.5375878848509</dd>\n",
       "\t<dt>(100,300]</dt>\n",
       "\t\t<dd>2.53314707408875</dd>\n",
       "\t<dt>(300,1e+03]</dt>\n",
       "\t\t<dd>2.5404328042738</dd>\n",
       "\t<dt>(1e+03,1e+04]</dt>\n",
       "\t\t<dd>2.62340862422998</dd>\n",
       "</dl>\n",
       "</dd>\n",
       "\t<dt>$date1</dt>\n",
       "\t\t<dd><dl class=dl-horizontal>\n",
       "\t<dt>(10,100]</dt>\n",
       "\t\t<dd>12199.3426100455</dd>\n",
       "\t<dt>(100,300]</dt>\n",
       "\t\t<dd>12199.9668615984</dd>\n",
       "\t<dt>(300,1e+03]</dt>\n",
       "\t\t<dd>12201.1823899371</dd>\n",
       "\t<dt>(1e+03,1e+04]</dt>\n",
       "\t\t<dd>12211.8</dd>\n",
       "</dl>\n",
       "</dd>\n",
       "\t<dt>$date2</dt>\n",
       "\t\t<dd><dl class=dl-horizontal>\n",
       "\t<dt>(10,100]</dt>\n",
       "\t\t<dd>13126.1965849872</dd>\n",
       "\t<dt>(100,300]</dt>\n",
       "\t\t<dd>13125.1988304094</dd>\n",
       "\t<dt>(300,1e+03]</dt>\n",
       "\t\t<dd>13129.0754716981</dd>\n",
       "\t<dt>(1e+03,1e+04]</dt>\n",
       "\t\t<dd>13170</dd>\n",
       "</dl>\n",
       "</dd>\n",
       "</dl>\n"
      ],
      "text/latex": [
       "\\begin{description}\n",
       "\\item[\\$rate] \\begin{description*}\n",
       "\\item[(10,100\\{{]}\\}] 0.938725729892432\n",
       "\\item[(100,300\\{{]}\\}] 3.1058219425545\n",
       "\\item[(300,1e+03\\{{]}\\}] 4.77780389570271\n",
       "\\item[(1e+03,1e+04\\{{]}\\}] 3.60554139418983\n",
       "\\end{description*}\n",
       "\n",
       "\\item[\\$N] \\begin{description*}\n",
       "\\item[(10,100\\{{]}\\}] 9019\n",
       "\\item[(100,300\\{{]}\\}] 513\n",
       "\\item[(300,1e+03\\{{]}\\}] 159\n",
       "\\item[(1e+03,1e+04\\{{]}\\}] 5\n",
       "\\end{description*}\n",
       "\n",
       "\\item[\\$clim] \\begin{description*}\n",
       "\\item[(10,100\\{{]}\\}] 0.0368953245034573\n",
       "\\item[(100,300\\{{]}\\}] 0.341562110590602\n",
       "\\item[(300,1e+03\\{{]}\\}] 0.884579721321775\n",
       "\\item[(1e+03,1e+04\\{{]}\\}] 2.63286966825124\n",
       "\\end{description*}\n",
       "\n",
       "\\item[\\$dbhmean] \\begin{description*}\n",
       "\\item[(10,100\\{{]}\\}] 25.9361348264774\n",
       "\\item[(100,300\\{{]}\\}] 170.148148148148\n",
       "\\item[(300,1e+03\\{{]}\\}] 477.698113207547\n",
       "\\item[(1e+03,1e+04\\{{]}\\}] 1170.6\n",
       "\\end{description*}\n",
       "\n",
       "\\item[\\$time] \\begin{description*}\n",
       "\\item[(10,100\\{{]}\\}] 2.5375878848509\n",
       "\\item[(100,300\\{{]}\\}] 2.53314707408875\n",
       "\\item[(300,1e+03\\{{]}\\}] 2.5404328042738\n",
       "\\item[(1e+03,1e+04\\{{]}\\}] 2.62340862422998\n",
       "\\end{description*}\n",
       "\n",
       "\\item[\\$date1] \\begin{description*}\n",
       "\\item[(10,100\\{{]}\\}] 12199.3426100455\n",
       "\\item[(100,300\\{{]}\\}] 12199.9668615984\n",
       "\\item[(300,1e+03\\{{]}\\}] 12201.1823899371\n",
       "\\item[(1e+03,1e+04\\{{]}\\}] 12211.8\n",
       "\\end{description*}\n",
       "\n",
       "\\item[\\$date2] \\begin{description*}\n",
       "\\item[(10,100\\{{]}\\}] 13126.1965849872\n",
       "\\item[(100,300\\{{]}\\}] 13125.1988304094\n",
       "\\item[(300,1e+03\\{{]}\\}] 13129.0754716981\n",
       "\\item[(1e+03,1e+04\\{{]}\\}] 13170\n",
       "\\end{description*}\n",
       "\n",
       "\\end{description}\n"
      ],
      "text/markdown": [
       "$rate\n",
       ":   (10,100]\n",
       ":   0.938725729892432(100,300]\n",
       ":   3.1058219425545(300,1e+03]\n",
       ":   4.77780389570271(1e+03,1e+04]\n",
       ":   3.60554139418983\n",
       "\n",
       "\n",
       "$N\n",
       ":   (10,100]\n",
       ":   9019(100,300]\n",
       ":   513(300,1e+03]\n",
       ":   159(1e+03,1e+04]\n",
       ":   5\n",
       "\n",
       "\n",
       "$clim\n",
       ":   (10,100]\n",
       ":   0.0368953245034573(100,300]\n",
       ":   0.341562110590602(300,1e+03]\n",
       ":   0.884579721321775(1e+03,1e+04]\n",
       ":   2.63286966825124\n",
       "\n",
       "\n",
       "$dbhmean\n",
       ":   (10,100]\n",
       ":   25.9361348264774(100,300]\n",
       ":   170.148148148148(300,1e+03]\n",
       ":   477.698113207547(1e+03,1e+04]\n",
       ":   1170.6\n",
       "\n",
       "\n",
       "$time\n",
       ":   (10,100]\n",
       ":   2.5375878848509(100,300]\n",
       ":   2.53314707408875(300,1e+03]\n",
       ":   2.5404328042738(1e+03,1e+04]\n",
       ":   2.62340862422998\n",
       "\n",
       "\n",
       "$date1\n",
       ":   (10,100]\n",
       ":   12199.3426100455(100,300]\n",
       ":   12199.9668615984(300,1e+03]\n",
       ":   12201.1823899371(1e+03,1e+04]\n",
       ":   12211.8\n",
       "\n",
       "\n",
       "$date2\n",
       ":   (10,100]\n",
       ":   13126.1965849872(100,300]\n",
       ":   13125.1988304094(300,1e+03]\n",
       ":   13129.0754716981(1e+03,1e+04]\n",
       ":   13170\n",
       "\n",
       "\n",
       "\n",
       "\n"
      ],
      "text/plain": [
       "$rate\n",
       "     (10,100]     (100,300]   (300,1e+03] (1e+03,1e+04] \n",
       "    0.9387257     3.1058219     4.7778039     3.6055414 \n",
       "\n",
       "$N\n",
       "     (10,100]     (100,300]   (300,1e+03] (1e+03,1e+04] \n",
       "         9019           513           159             5 \n",
       "\n",
       "$clim\n",
       "     (10,100]     (100,300]   (300,1e+03] (1e+03,1e+04] \n",
       "   0.03689532    0.34156211    0.88457972    2.63286967 \n",
       "\n",
       "$dbhmean\n",
       "     (10,100]     (100,300]   (300,1e+03] (1e+03,1e+04] \n",
       "     25.93613     170.14815     477.69811    1170.60000 \n",
       "\n",
       "$time\n",
       "     (10,100]     (100,300]   (300,1e+03] (1e+03,1e+04] \n",
       "     2.537588      2.533147      2.540433      2.623409 \n",
       "\n",
       "$date1\n",
       "     (10,100]     (100,300]   (300,1e+03] (1e+03,1e+04] \n",
       "     12199.34      12199.97      12201.18      12211.80 \n",
       "\n",
       "$date2\n",
       "     (10,100]     (100,300]   (300,1e+03] (1e+03,1e+04] \n",
       "     13126.20      13125.20      13129.08      13170.00 \n"
      ]
     },
     "metadata": {},
     "output_type": "display_data"
    }
   ],
   "source": [
    "size <- cut(bukittimahprimary.full1$dbh, c(10,100,300,1000,10000))\n",
    "growth(bukittimahprimary.full1, bukittimahprimary.full2, split1 = size)\n"
   ]
  },
  {
   "cell_type": "code",
   "execution_count": 19,
   "metadata": {},
   "outputs": [
    {
     "data": {
      "text/html": [
       "<dl>\n",
       "\t<dt>$rate</dt>\n",
       "\t\t<dd><dl class=dl-horizontal>\n",
       "\t<dt>(10,100]</dt>\n",
       "\t\t<dd>0.0356281623531345</dd>\n",
       "\t<dt>(100,300]</dt>\n",
       "\t\t<dd>0.0179059851352931</dd>\n",
       "\t<dt>(300,1e+03]</dt>\n",
       "\t\t<dd>0.0104623860566221</dd>\n",
       "\t<dt>(1e+03,1e+04]</dt>\n",
       "\t\t<dd>0.00303457604582484</dd>\n",
       "</dl>\n",
       "</dd>\n",
       "\t<dt>$N</dt>\n",
       "\t\t<dd><dl class=dl-horizontal>\n",
       "\t<dt>(10,100]</dt>\n",
       "\t\t<dd>9019</dd>\n",
       "\t<dt>(100,300]</dt>\n",
       "\t\t<dd>513</dd>\n",
       "\t<dt>(300,1e+03]</dt>\n",
       "\t\t<dd>159</dd>\n",
       "\t<dt>(1e+03,1e+04]</dt>\n",
       "\t\t<dd>5</dd>\n",
       "</dl>\n",
       "</dd>\n",
       "\t<dt>$clim</dt>\n",
       "\t\t<dd><dl class=dl-horizontal>\n",
       "\t<dt>(10,100]</dt>\n",
       "\t\t<dd>0.00114895254662415</dd>\n",
       "\t<dt>(100,300]</dt>\n",
       "\t\t<dd>0.00184550764106707</dd>\n",
       "\t<dt>(300,1e+03]</dt>\n",
       "\t\t<dd>0.00194021094951403</dd>\n",
       "\t<dt>(1e+03,1e+04]</dt>\n",
       "\t\t<dd>0.00216707440977251</dd>\n",
       "</dl>\n",
       "</dd>\n",
       "\t<dt>$dbhmean</dt>\n",
       "\t\t<dd><dl class=dl-horizontal>\n",
       "\t<dt>(10,100]</dt>\n",
       "\t\t<dd>25.9361348264774</dd>\n",
       "\t<dt>(100,300]</dt>\n",
       "\t\t<dd>170.148148148148</dd>\n",
       "\t<dt>(300,1e+03]</dt>\n",
       "\t\t<dd>477.698113207547</dd>\n",
       "\t<dt>(1e+03,1e+04]</dt>\n",
       "\t\t<dd>1170.6</dd>\n",
       "</dl>\n",
       "</dd>\n",
       "\t<dt>$time</dt>\n",
       "\t\t<dd><dl class=dl-horizontal>\n",
       "\t<dt>(10,100]</dt>\n",
       "\t\t<dd>2.5375878848509</dd>\n",
       "\t<dt>(100,300]</dt>\n",
       "\t\t<dd>2.53314707408875</dd>\n",
       "\t<dt>(300,1e+03]</dt>\n",
       "\t\t<dd>2.5404328042738</dd>\n",
       "\t<dt>(1e+03,1e+04]</dt>\n",
       "\t\t<dd>2.62340862422998</dd>\n",
       "</dl>\n",
       "</dd>\n",
       "\t<dt>$date1</dt>\n",
       "\t\t<dd><dl class=dl-horizontal>\n",
       "\t<dt>(10,100]</dt>\n",
       "\t\t<dd>12199.3426100455</dd>\n",
       "\t<dt>(100,300]</dt>\n",
       "\t\t<dd>12199.9668615984</dd>\n",
       "\t<dt>(300,1e+03]</dt>\n",
       "\t\t<dd>12201.1823899371</dd>\n",
       "\t<dt>(1e+03,1e+04]</dt>\n",
       "\t\t<dd>12211.8</dd>\n",
       "</dl>\n",
       "</dd>\n",
       "\t<dt>$date2</dt>\n",
       "\t\t<dd><dl class=dl-horizontal>\n",
       "\t<dt>(10,100]</dt>\n",
       "\t\t<dd>13126.1965849872</dd>\n",
       "\t<dt>(100,300]</dt>\n",
       "\t\t<dd>13125.1988304094</dd>\n",
       "\t<dt>(300,1e+03]</dt>\n",
       "\t\t<dd>13129.0754716981</dd>\n",
       "\t<dt>(1e+03,1e+04]</dt>\n",
       "\t\t<dd>13170</dd>\n",
       "</dl>\n",
       "</dd>\n",
       "</dl>\n"
      ],
      "text/latex": [
       "\\begin{description}\n",
       "\\item[\\$rate] \\begin{description*}\n",
       "\\item[(10,100\\{{]}\\}] 0.0356281623531345\n",
       "\\item[(100,300\\{{]}\\}] 0.0179059851352931\n",
       "\\item[(300,1e+03\\{{]}\\}] 0.0104623860566221\n",
       "\\item[(1e+03,1e+04\\{{]}\\}] 0.00303457604582484\n",
       "\\end{description*}\n",
       "\n",
       "\\item[\\$N] \\begin{description*}\n",
       "\\item[(10,100\\{{]}\\}] 9019\n",
       "\\item[(100,300\\{{]}\\}] 513\n",
       "\\item[(300,1e+03\\{{]}\\}] 159\n",
       "\\item[(1e+03,1e+04\\{{]}\\}] 5\n",
       "\\end{description*}\n",
       "\n",
       "\\item[\\$clim] \\begin{description*}\n",
       "\\item[(10,100\\{{]}\\}] 0.00114895254662415\n",
       "\\item[(100,300\\{{]}\\}] 0.00184550764106707\n",
       "\\item[(300,1e+03\\{{]}\\}] 0.00194021094951403\n",
       "\\item[(1e+03,1e+04\\{{]}\\}] 0.00216707440977251\n",
       "\\end{description*}\n",
       "\n",
       "\\item[\\$dbhmean] \\begin{description*}\n",
       "\\item[(10,100\\{{]}\\}] 25.9361348264774\n",
       "\\item[(100,300\\{{]}\\}] 170.148148148148\n",
       "\\item[(300,1e+03\\{{]}\\}] 477.698113207547\n",
       "\\item[(1e+03,1e+04\\{{]}\\}] 1170.6\n",
       "\\end{description*}\n",
       "\n",
       "\\item[\\$time] \\begin{description*}\n",
       "\\item[(10,100\\{{]}\\}] 2.5375878848509\n",
       "\\item[(100,300\\{{]}\\}] 2.53314707408875\n",
       "\\item[(300,1e+03\\{{]}\\}] 2.5404328042738\n",
       "\\item[(1e+03,1e+04\\{{]}\\}] 2.62340862422998\n",
       "\\end{description*}\n",
       "\n",
       "\\item[\\$date1] \\begin{description*}\n",
       "\\item[(10,100\\{{]}\\}] 12199.3426100455\n",
       "\\item[(100,300\\{{]}\\}] 12199.9668615984\n",
       "\\item[(300,1e+03\\{{]}\\}] 12201.1823899371\n",
       "\\item[(1e+03,1e+04\\{{]}\\}] 12211.8\n",
       "\\end{description*}\n",
       "\n",
       "\\item[\\$date2] \\begin{description*}\n",
       "\\item[(10,100\\{{]}\\}] 13126.1965849872\n",
       "\\item[(100,300\\{{]}\\}] 13125.1988304094\n",
       "\\item[(300,1e+03\\{{]}\\}] 13129.0754716981\n",
       "\\item[(1e+03,1e+04\\{{]}\\}] 13170\n",
       "\\end{description*}\n",
       "\n",
       "\\end{description}\n"
      ],
      "text/markdown": [
       "$rate\n",
       ":   (10,100]\n",
       ":   0.0356281623531345(100,300]\n",
       ":   0.0179059851352931(300,1e+03]\n",
       ":   0.0104623860566221(1e+03,1e+04]\n",
       ":   0.00303457604582484\n",
       "\n",
       "\n",
       "$N\n",
       ":   (10,100]\n",
       ":   9019(100,300]\n",
       ":   513(300,1e+03]\n",
       ":   159(1e+03,1e+04]\n",
       ":   5\n",
       "\n",
       "\n",
       "$clim\n",
       ":   (10,100]\n",
       ":   0.00114895254662415(100,300]\n",
       ":   0.00184550764106707(300,1e+03]\n",
       ":   0.00194021094951403(1e+03,1e+04]\n",
       ":   0.00216707440977251\n",
       "\n",
       "\n",
       "$dbhmean\n",
       ":   (10,100]\n",
       ":   25.9361348264774(100,300]\n",
       ":   170.148148148148(300,1e+03]\n",
       ":   477.698113207547(1e+03,1e+04]\n",
       ":   1170.6\n",
       "\n",
       "\n",
       "$time\n",
       ":   (10,100]\n",
       ":   2.5375878848509(100,300]\n",
       ":   2.53314707408875(300,1e+03]\n",
       ":   2.5404328042738(1e+03,1e+04]\n",
       ":   2.62340862422998\n",
       "\n",
       "\n",
       "$date1\n",
       ":   (10,100]\n",
       ":   12199.3426100455(100,300]\n",
       ":   12199.9668615984(300,1e+03]\n",
       ":   12201.1823899371(1e+03,1e+04]\n",
       ":   12211.8\n",
       "\n",
       "\n",
       "$date2\n",
       ":   (10,100]\n",
       ":   13126.1965849872(100,300]\n",
       ":   13125.1988304094(300,1e+03]\n",
       ":   13129.0754716981(1e+03,1e+04]\n",
       ":   13170\n",
       "\n",
       "\n",
       "\n",
       "\n"
      ],
      "text/plain": [
       "$rate\n",
       "     (10,100]     (100,300]   (300,1e+03] (1e+03,1e+04] \n",
       "  0.035628162   0.017905985   0.010462386   0.003034576 \n",
       "\n",
       "$N\n",
       "     (10,100]     (100,300]   (300,1e+03] (1e+03,1e+04] \n",
       "         9019           513           159             5 \n",
       "\n",
       "$clim\n",
       "     (10,100]     (100,300]   (300,1e+03] (1e+03,1e+04] \n",
       "  0.001148953   0.001845508   0.001940211   0.002167074 \n",
       "\n",
       "$dbhmean\n",
       "     (10,100]     (100,300]   (300,1e+03] (1e+03,1e+04] \n",
       "     25.93613     170.14815     477.69811    1170.60000 \n",
       "\n",
       "$time\n",
       "     (10,100]     (100,300]   (300,1e+03] (1e+03,1e+04] \n",
       "     2.537588      2.533147      2.540433      2.623409 \n",
       "\n",
       "$date1\n",
       "     (10,100]     (100,300]   (300,1e+03] (1e+03,1e+04] \n",
       "     12199.34      12199.97      12201.18      12211.80 \n",
       "\n",
       "$date2\n",
       "     (10,100]     (100,300]   (300,1e+03] (1e+03,1e+04] \n",
       "     13126.20      13125.20      13129.08      13170.00 \n"
      ]
     },
     "metadata": {},
     "output_type": "display_data"
    }
   ],
   "source": [
    "growth(bukittimahprimary.full1, bukittimahprimary.full2, method = 'E', split1 = size)"
   ]
  },
  {
   "cell_type": "markdown",
   "metadata": {},
   "source": [
    "### <font color = red> Separating data according to species"
   ]
  },
  {
   "cell_type": "code",
   "execution_count": 20,
   "metadata": {},
   "outputs": [],
   "source": [
    "btpri5 <- split.data(bukittimahprimary.full5, splitcol=\"sp\")"
   ]
  },
  {
   "cell_type": "code",
   "execution_count": 21,
   "metadata": {},
   "outputs": [],
   "source": [
    "btpri4 <- split.data(bukittimahprimary.full4, splitcol=\"sp\")"
   ]
  },
  {
   "cell_type": "code",
   "execution_count": 22,
   "metadata": {},
   "outputs": [],
   "source": [
    "btpri2 <- split.data(bukittimahprimary.full2, splitcol=\"sp\")"
   ]
  },
  {
   "cell_type": "code",
   "execution_count": 23,
   "metadata": {},
   "outputs": [],
   "source": [
    "btsec2 <- split.data(bukit_timah_secondary.full2, splitcol=\"sp\")"
   ]
  },
  {
   "cell_type": "markdown",
   "metadata": {},
   "source": [
    "### Creating plot distribution maps with map() function using CTFS package"
   ]
  },
  {
   "cell_type": "markdown",
   "metadata": {},
   "source": [
    "Species STREEL using bukittimahprimary.full5 dataset"
   ]
  },
  {
   "cell_type": "code",
   "execution_count": 24,
   "metadata": {},
   "outputs": [
    {
     "data": {
      "image/png": "[encoded data removed]",
      "text/plain": [
       "plot without title"
      ]
     },
     "metadata": {},
     "output_type": "display_data"
    }
   ],
   "source": [
    "map(splitdatafile=btpri5,species=c('STREEL'),plotdim=c(200,100))"
   ]
  },
  {
   "cell_type": "markdown",
   "metadata": {},
   "source": [
    "Species STREEL using bukit_timah_secondary.full2 dataset"
   ]
  },
  {
   "cell_type": "code",
   "execution_count": 25,
   "metadata": {},
   "outputs": [
    {
     "data": {
      "image/png": "[encoded data removed]",
      "text/plain": [
       "plot without title"
      ]
     },
     "metadata": {},
     "output_type": "display_data"
    }
   ],
   "source": [
    "map(splitdatafile=btsec2,species=c('STREEL'),plotdim=c(200,100))"
   ]
  },
  {
   "cell_type": "markdown",
   "metadata": {},
   "source": [
    "### Export all spatial distribution for primary forest full5 to a pdf"
   ]
  },
  {
   "cell_type": "code",
   "execution_count": 26,
   "metadata": {},
   "outputs": [],
   "source": [
    "# pdf.allplot(splitdata=btpri5, spplist=bukit_timah_primary.spptable, elev=NULL, \n",
    "#             topoint=10, plotdim=c(200,100), \n",
    "#             cutoff = c(10, 100, 300, 3000), size =1, \n",
    "#             export=TRUE, singlefile=TRUE, bty='n', path = \"C:/Users/delim/Desktop\")\n"
   ]
  },
  {
   "cell_type": "markdown",
   "metadata": {},
   "source": [
    "### Calculate no. of distinct species"
   ]
  },
  {
   "cell_type": "code",
   "execution_count": 27,
   "metadata": {},
   "outputs": [
    {
     "data": {
      "text/html": [
       "378"
      ],
      "text/latex": [
       "378"
      ],
      "text/markdown": [
       "378"
      ],
      "text/plain": [
       "[1] 378"
      ]
     },
     "metadata": {},
     "output_type": "display_data"
    }
   ],
   "source": [
    "n_distinct(bukittimahprimary.full5$sp)"
   ]
  },
  {
   "cell_type": "markdown",
   "metadata": {},
   "source": [
    "## [Back to top](#Contents) "
   ]
  },
  {
   "cell_type": "markdown",
   "metadata": {},
   "source": [
    "# 3. Data Wrangling"
   ]
  },
  {
   "cell_type": "markdown",
   "metadata": {},
   "source": [
    "Creating dfs for each species to analyse the data"
   ]
  },
  {
   "cell_type": "code",
   "execution_count": 28,
   "metadata": {},
   "outputs": [],
   "source": [
    "p_streel_df <- btpri5$STREEL\n",
    "p_shorcu_df <- btpri5$SHORCU\n",
    "s_streel_df <- btsec2$STREEL\n",
    "s_shorcu_df <- btsec2$SHORCU"
   ]
  },
  {
   "cell_type": "code",
   "execution_count": 29,
   "metadata": {},
   "outputs": [],
   "source": [
    "# write.csv(p_streel_df, file = \"Sendable/p_streel_pri5.csv\")\n",
    "# write.csv(s_streel_df, file = \"Sendable/s_streel_sec2.csv\")\n",
    "# write.csv(p_shorcu_df, file = \"Sendable/p_shorcu_pri5.csv\")\n",
    "# write.csv(s_shorcu_df, file = \"Sendable/s_shorcu_sec2.csv\")"
   ]
  },
  {
   "cell_type": "markdown",
   "metadata": {},
   "source": [
    "Removing NAs from dbh column and dead trees"
   ]
  },
  {
   "cell_type": "code",
   "execution_count": 30,
   "metadata": {},
   "outputs": [],
   "source": [
    "p_streel_df <- p_streel_df %>%\n",
    "    filter(p_streel_df$DFstatus == 'alive') %>%\n",
    "    drop_na(dbh)\n",
    "\n",
    "s_streel_df <- s_streel_df %>%\n",
    "    filter(s_streel_df$DFstatus == 'alive') %>%\n",
    "    drop_na(dbh)\n",
    "\n",
    "p_shorcu_df <- p_shorcu_df %>%\n",
    "    filter(p_shorcu_df$DFstatus == 'alive') %>%\n",
    "    drop_na(dbh)\n",
    "\n",
    "s_shorcu_df <- s_shorcu_df %>%\n",
    "    filter(s_shorcu_df$DFstatus == 'alive') %>%\n",
    "    drop_na(dbh)"
   ]
  },
  {
   "cell_type": "markdown",
   "metadata": {},
   "source": [
    "# Task 1: Plotting distribution of species "
   ]
  },
  {
   "cell_type": "markdown",
   "metadata": {},
   "source": [
    "- To show the distribution of species count in Bukit Timah Nature Reserve"
   ]
  },
  {
   "cell_type": "markdown",
   "metadata": {},
   "source": [
    "### Checking whether dates of pri5 tally with sec2 "
   ]
  },
  {
   "cell_type": "markdown",
   "metadata": {},
   "source": [
    "bukit_timah_secondary.full2 dataset"
   ]
  },
  {
   "cell_type": "code",
   "execution_count": 31,
   "metadata": {},
   "outputs": [
    {
     "data": {
      "text/html": [
       "<ol class=list-inline>\n",
       "\t<li>5257</li>\n",
       "\t<li>19</li>\n",
       "</ol>\n"
      ],
      "text/latex": [
       "\\begin{enumerate*}\n",
       "\\item 5257\n",
       "\\item 19\n",
       "\\end{enumerate*}\n"
      ],
      "text/markdown": [
       "1. 5257\n",
       "2. 19\n",
       "\n",
       "\n"
      ],
      "text/plain": [
       "[1] 5257   19"
      ]
     },
     "metadata": {},
     "output_type": "display_data"
    }
   ],
   "source": [
    "dim(bukit_timah_secondary.full2)"
   ]
  },
  {
   "cell_type": "code",
   "execution_count": 44,
   "metadata": {},
   "outputs": [
    {
     "data": {
      "text/html": [
       "<ol class=list-inline>\n",
       "\t<li><time datetime=\"2007-09-17\">2007-09-17</time></li>\n",
       "\t<li><time datetime=\"2007-09-17\">2007-09-17</time></li>\n",
       "\t<li><time datetime=\"2007-09-17\">2007-09-17</time></li>\n",
       "\t<li><time datetime=\"2007-09-17\">2007-09-17</time></li>\n",
       "\t<li><time datetime=\"2007-09-17\">2007-09-17</time></li>\n",
       "\t<li><time datetime=\"2007-09-17\">2007-09-17</time></li>\n",
       "</ol>\n"
      ],
      "text/latex": [
       "\\begin{enumerate*}\n",
       "\\item 2007-09-17\n",
       "\\item 2007-09-17\n",
       "\\item 2007-09-17\n",
       "\\item 2007-09-17\n",
       "\\item 2007-09-17\n",
       "\\item 2007-09-17\n",
       "\\end{enumerate*}\n"
      ],
      "text/markdown": [
       "1. 2007-09-17\n",
       "2. 2007-09-17\n",
       "3. 2007-09-17\n",
       "4. 2007-09-17\n",
       "5. 2007-09-17\n",
       "6. 2007-09-17\n",
       "\n",
       "\n"
      ],
      "text/plain": [
       "[1] \"2007-09-17\" \"2007-09-17\" \"2007-09-17\" \"2007-09-17\" \"2007-09-17\"\n",
       "[6] \"2007-09-17\""
      ]
     },
     "metadata": {},
     "output_type": "display_data"
    },
    {
     "data": {
      "text/html": [
       "<ol class=list-inline>\n",
       "\t<li><time datetime=\"2007-11-13\">2007-11-13</time></li>\n",
       "\t<li><time datetime=\"2007-11-13\">2007-11-13</time></li>\n",
       "\t<li><time datetime=\"2007-11-13\">2007-11-13</time></li>\n",
       "\t<li><time datetime=\"2007-11-13\">2007-11-13</time></li>\n",
       "\t<li><time datetime=\"2008-04-09\">2008-04-09</time></li>\n",
       "\t<li><time datetime=\"2008-04-09\">2008-04-09</time></li>\n",
       "</ol>\n"
      ],
      "text/latex": [
       "\\begin{enumerate*}\n",
       "\\item 2007-11-13\n",
       "\\item 2007-11-13\n",
       "\\item 2007-11-13\n",
       "\\item 2007-11-13\n",
       "\\item 2008-04-09\n",
       "\\item 2008-04-09\n",
       "\\end{enumerate*}\n"
      ],
      "text/markdown": [
       "1. 2007-11-13\n",
       "2. 2007-11-13\n",
       "3. 2007-11-13\n",
       "4. 2007-11-13\n",
       "5. 2008-04-09\n",
       "6. 2008-04-09\n",
       "\n",
       "\n"
      ],
      "text/plain": [
       "[1] \"2007-11-13\" \"2007-11-13\" \"2007-11-13\" \"2007-11-13\" \"2008-04-09\"\n",
       "[6] \"2008-04-09\""
      ]
     },
     "metadata": {},
     "output_type": "display_data"
    }
   ],
   "source": [
    "sorted_date_sec2 <- sort(bukit_timah_secondary.full2$ExactDate)\n",
    "head(sorted_date_sec2)\n",
    "tail(sorted_date_sec2)"
   ]
  },
  {
   "cell_type": "markdown",
   "metadata": {},
   "source": [
    "bukittimahprimary.full5 dataset"
   ]
  },
  {
   "cell_type": "code",
   "execution_count": 41,
   "metadata": {},
   "outputs": [
    {
     "data": {
      "text/html": [
       "<ol class=list-inline>\n",
       "\t<li>'2007-07-10'</li>\n",
       "\t<li>'2007-07-10'</li>\n",
       "\t<li>'2007-07-10'</li>\n",
       "\t<li>'2007-07-10'</li>\n",
       "\t<li>'2007-07-10'</li>\n",
       "\t<li>'2007-07-10'</li>\n",
       "</ol>\n"
      ],
      "text/latex": [
       "\\begin{enumerate*}\n",
       "\\item '2007-07-10'\n",
       "\\item '2007-07-10'\n",
       "\\item '2007-07-10'\n",
       "\\item '2007-07-10'\n",
       "\\item '2007-07-10'\n",
       "\\item '2007-07-10'\n",
       "\\end{enumerate*}\n"
      ],
      "text/markdown": [
       "1. '2007-07-10'\n",
       "2. '2007-07-10'\n",
       "3. '2007-07-10'\n",
       "4. '2007-07-10'\n",
       "5. '2007-07-10'\n",
       "6. '2007-07-10'\n",
       "\n",
       "\n"
      ],
      "text/plain": [
       "[1] \"2007-07-10\" \"2007-07-10\" \"2007-07-10\" \"2007-07-10\" \"2007-07-10\"\n",
       "[6] \"2007-07-10\""
      ]
     },
     "metadata": {},
     "output_type": "display_data"
    },
    {
     "data": {
      "text/html": [
       "<ol class=list-inline>\n",
       "\t<li>'2008-04-30'</li>\n",
       "\t<li>'2008-04-30'</li>\n",
       "\t<li>'2008-04-30'</li>\n",
       "\t<li>'2008-04-30'</li>\n",
       "\t<li>'2008-04-30'</li>\n",
       "\t<li>'2008-04-30'</li>\n",
       "</ol>\n"
      ],
      "text/latex": [
       "\\begin{enumerate*}\n",
       "\\item '2008-04-30'\n",
       "\\item '2008-04-30'\n",
       "\\item '2008-04-30'\n",
       "\\item '2008-04-30'\n",
       "\\item '2008-04-30'\n",
       "\\item '2008-04-30'\n",
       "\\end{enumerate*}\n"
      ],
      "text/markdown": [
       "1. '2008-04-30'\n",
       "2. '2008-04-30'\n",
       "3. '2008-04-30'\n",
       "4. '2008-04-30'\n",
       "5. '2008-04-30'\n",
       "6. '2008-04-30'\n",
       "\n",
       "\n"
      ],
      "text/plain": [
       "[1] \"2008-04-30\" \"2008-04-30\" \"2008-04-30\" \"2008-04-30\" \"2008-04-30\"\n",
       "[6] \"2008-04-30\""
      ]
     },
     "metadata": {},
     "output_type": "display_data"
    }
   ],
   "source": [
    "sorted_date_pri5 <- sort(bukittimahprimary.full5$ExactDate)\n",
    "head(sorted_date_pri5)\n",
    "tail(sorted_date_pri5)"
   ]
  },
  {
   "cell_type": "markdown",
   "metadata": {},
   "source": [
    "### Data wrangling pri5 dataset"
   ]
  },
  {
   "cell_type": "code",
   "execution_count": 33,
   "metadata": {},
   "outputs": [],
   "source": [
    "trees_alive_pri_5 <- \n",
    "bukittimahprimary.full5 %>%\n",
    "  filter(status == \"A\") %>%\n",
    "  group_by(sp)\n",
    "ptree5.df <- data.frame(table(trees_alive_pri_5$sp))"
   ]
  },
  {
   "cell_type": "code",
   "execution_count": 34,
   "metadata": {},
   "outputs": [
    {
     "data": {
      "text/html": [
       "<table>\n",
       "<thead><tr><th scope=col>Species</th><th scope=col>Count</th></tr></thead>\n",
       "<tbody>\n",
       "\t<tr><td>AAAAAA</td><td>11    </td></tr>\n",
       "\t<tr><td>ACHRPO</td><td> 1    </td></tr>\n",
       "\t<tr><td>ACTEEX</td><td> 5    </td></tr>\n",
       "\t<tr><td>ACTIML</td><td>43    </td></tr>\n",
       "\t<tr><td>ADENMA</td><td>17    </td></tr>\n",
       "\t<tr><td>ADINDU</td><td> 2    </td></tr>\n",
       "</tbody>\n",
       "</table>\n"
      ],
      "text/latex": [
       "\\begin{tabular}{r|ll}\n",
       " Species & Count\\\\\n",
       "\\hline\n",
       "\t AAAAAA & 11    \\\\\n",
       "\t ACHRPO &  1    \\\\\n",
       "\t ACTEEX &  5    \\\\\n",
       "\t ACTIML & 43    \\\\\n",
       "\t ADENMA & 17    \\\\\n",
       "\t ADINDU &  2    \\\\\n",
       "\\end{tabular}\n"
      ],
      "text/markdown": [
       "\n",
       "| Species | Count |\n",
       "|---|---|\n",
       "| AAAAAA | 11     |\n",
       "| ACHRPO |  1     |\n",
       "| ACTEEX |  5     |\n",
       "| ACTIML | 43     |\n",
       "| ADENMA | 17     |\n",
       "| ADINDU |  2     |\n",
       "\n"
      ],
      "text/plain": [
       "  Species Count\n",
       "1 AAAAAA  11   \n",
       "2 ACHRPO   1   \n",
       "3 ACTEEX   5   \n",
       "4 ACTIML  43   \n",
       "5 ADENMA  17   \n",
       "6 ADINDU   2   "
      ]
     },
     "metadata": {},
     "output_type": "display_data"
    }
   ],
   "source": [
    "names(ptree5.df)[1] <- \"Species\"\n",
    "names(ptree5.df)[2] <- \"Count\"\n",
    "head(ptree5.df)"
   ]
  },
  {
   "cell_type": "code",
   "execution_count": 35,
   "metadata": {},
   "outputs": [
    {
     "data": {
      "text/html": [
       "346"
      ],
      "text/latex": [
       "346"
      ],
      "text/markdown": [
       "346"
      ],
      "text/plain": [
       "[1] 346"
      ]
     },
     "metadata": {},
     "output_type": "display_data"
    }
   ],
   "source": [
    "n_distinct(trees_alive_pri_5$sp) -1"
   ]
  },
  {
   "cell_type": "markdown",
   "metadata": {},
   "source": [
    "### Plotting "
   ]
  },
  {
   "cell_type": "code",
   "execution_count": 36,
   "metadata": {},
   "outputs": [
    {
     "data": {
      "image/png": "[encoded data removed]",
      "text/plain": [
       "plot without title"
      ]
     },
     "metadata": {},
     "output_type": "display_data"
    }
   ],
   "source": [
    "ggplot(ptree5.df, aes(reorder(Species, -Count), Count)) + geom_col() + \n",
    "theme(axis.title.x=element_blank(),\n",
    "        axis.text.x=element_blank(),\n",
    "        axis.ticks.x=element_blank()) + \n",
    "labs(\n",
    "    x = \"Species rank\",\n",
    "    y = \"Count\",\n",
    "    title = \"Distribution of species in primary forest\",\n",
    "    caption = \"Data source: bukittimahprimary.full5\"\n",
    "  )"
   ]
  },
  {
   "cell_type": "markdown",
   "metadata": {},
   "source": [
    "### Data wrangling sec2 dataset"
   ]
  },
  {
   "cell_type": "code",
   "execution_count": 37,
   "metadata": {},
   "outputs": [],
   "source": [
    "trees_alive_sec_2 <- \n",
    "bukit_timah_secondary.full2 %>%\n",
    "  filter(status == \"A\") %>%\n",
    "  group_by(sp)\n",
    "stree2.df <- data.frame(table(trees_alive_sec_2$sp))"
   ]
  },
  {
   "cell_type": "code",
   "execution_count": 38,
   "metadata": {},
   "outputs": [
    {
     "data": {
      "text/html": [
       "<table>\n",
       "<thead><tr><th scope=col>Species</th><th scope=col>Count</th></tr></thead>\n",
       "<tbody>\n",
       "\t<tr><td>AAAAAA</td><td>  6   </td></tr>\n",
       "\t<tr><td>ACACAU</td><td>  2   </td></tr>\n",
       "\t<tr><td>ACTIML</td><td>  1   </td></tr>\n",
       "\t<tr><td>ADENMA</td><td>  8   </td></tr>\n",
       "\t<tr><td>ADINDU</td><td>463   </td></tr>\n",
       "\t<tr><td>AIDIWA</td><td>  1   </td></tr>\n",
       "</tbody>\n",
       "</table>\n"
      ],
      "text/latex": [
       "\\begin{tabular}{r|ll}\n",
       " Species & Count\\\\\n",
       "\\hline\n",
       "\t AAAAAA &   6   \\\\\n",
       "\t ACACAU &   2   \\\\\n",
       "\t ACTIML &   1   \\\\\n",
       "\t ADENMA &   8   \\\\\n",
       "\t ADINDU & 463   \\\\\n",
       "\t AIDIWA &   1   \\\\\n",
       "\\end{tabular}\n"
      ],
      "text/markdown": [
       "\n",
       "| Species | Count |\n",
       "|---|---|\n",
       "| AAAAAA |   6    |\n",
       "| ACACAU |   2    |\n",
       "| ACTIML |   1    |\n",
       "| ADENMA |   8    |\n",
       "| ADINDU | 463    |\n",
       "| AIDIWA |   1    |\n",
       "\n"
      ],
      "text/plain": [
       "  Species Count\n",
       "1 AAAAAA    6  \n",
       "2 ACACAU    2  \n",
       "3 ACTIML    1  \n",
       "4 ADENMA    8  \n",
       "5 ADINDU  463  \n",
       "6 AIDIWA    1  "
      ]
     },
     "metadata": {},
     "output_type": "display_data"
    }
   ],
   "source": [
    "names(stree2.df)[1] <- \"Species\"\n",
    "names(stree2.df)[2] <- \"Count\"\n",
    "head(stree2.df)"
   ]
  },
  {
   "cell_type": "code",
   "execution_count": 39,
   "metadata": {},
   "outputs": [
    {
     "data": {
      "text/html": [
       "200"
      ],
      "text/latex": [
       "200"
      ],
      "text/markdown": [
       "200"
      ],
      "text/plain": [
       "[1] 200"
      ]
     },
     "metadata": {},
     "output_type": "display_data"
    }
   ],
   "source": [
    "n_distinct(trees_alive_sec_2$sp) "
   ]
  },
  {
   "cell_type": "markdown",
   "metadata": {},
   "source": [
    "### Plotting"
   ]
  },
  {
   "cell_type": "code",
   "execution_count": 40,
   "metadata": {},
   "outputs": [
    {
     "data": {
      "image/png": "[encoded data removed]",
      "text/plain": [
       "plot without title"
      ]
     },
     "metadata": {},
     "output_type": "display_data"
    }
   ],
   "source": [
    "ggplot(stree2.df, aes(reorder(Species, -Count), Count)) + geom_col() + \n",
    "theme(axis.title.x=element_blank(),\n",
    "        axis.text.x=element_blank(),\n",
    "        axis.ticks.x=element_blank()) + \n",
    "  labs(\n",
    "    x = \"Species rank\",\n",
    "    y = \"Count\",\n",
    "    title = \"Distribution of species in secondary forest\",\n",
    "    caption = \"Data source: bukit_timah_secondary.full2\"\n",
    "  )"
   ]
  },
  {
   "cell_type": "markdown",
   "metadata": {},
   "source": [
    "## [Back to top](#Contents) "
   ]
  },
  {
   "cell_type": "markdown",
   "metadata": {},
   "source": [
    "# Task 2: Boxplot Plotting"
   ]
  },
  {
   "cell_type": "markdown",
   "metadata": {},
   "source": [
    "- To show the distribution of dbh of the 2 species in pri and sec forest <br>"
   ]
  },
  {
   "cell_type": "markdown",
   "metadata": {},
   "source": [
    "Calculating the distribution of dbh for STREEL in year 2007-2008"
   ]
  },
  {
   "cell_type": "code",
   "execution_count": 41,
   "metadata": {},
   "outputs": [
    {
     "name": "stdout",
     "output_type": "stream",
     "text": [
      "[1] \"_________PRIMARY STREEL___________\"\n"
     ]
    },
    {
     "data": {
      "text/plain": [
       "   Min. 1st Qu.  Median    Mean 3rd Qu.    Max. \n",
       "  10.00   14.00   19.00   35.38   30.00  587.00 "
      ]
     },
     "metadata": {},
     "output_type": "display_data"
    },
    {
     "name": "stdout",
     "output_type": "stream",
     "text": [
      "[1] \"_________SECONDARY STREEL___________\"\n"
     ]
    },
    {
     "data": {
      "text/plain": [
       "   Min. 1st Qu.  Median    Mean 3rd Qu.    Max. \n",
       "  10.00   13.00   17.00   39.99   29.75  531.00 "
      ]
     },
     "metadata": {},
     "output_type": "display_data"
    }
   ],
   "source": [
    "print('_________PRIMARY STREEL___________')\n",
    "summary(p_streel_df$dbh)\n",
    "print('_________SECONDARY STREEL___________')\n",
    "summary(s_streel_df$dbh)"
   ]
  },
  {
   "cell_type": "markdown",
   "metadata": {},
   "source": [
    "Calculating the distribution of dbh for SHORCU in year 2007-2008"
   ]
  },
  {
   "cell_type": "code",
   "execution_count": 42,
   "metadata": {},
   "outputs": [
    {
     "name": "stdout",
     "output_type": "stream",
     "text": [
      "[1] \"_________PRIMARY SHORCU___________\"\n"
     ]
    },
    {
     "data": {
      "text/plain": [
       "   Min. 1st Qu.  Median    Mean 3rd Qu.    Max. \n",
       "  10.00   16.00   24.00   90.47   55.00 1293.00 "
      ]
     },
     "metadata": {},
     "output_type": "display_data"
    },
    {
     "name": "stdout",
     "output_type": "stream",
     "text": [
      "[1] \"_________SECONDARY SHORCU___________\"\n"
     ]
    },
    {
     "data": {
      "text/plain": [
       "   Min. 1st Qu.  Median    Mean 3rd Qu.    Max. \n",
       "  10.00   16.00   26.00   92.59   42.00 1433.00 "
      ]
     },
     "metadata": {},
     "output_type": "display_data"
    }
   ],
   "source": [
    "print('_________PRIMARY SHORCU___________')\n",
    "summary(p_shorcu_df$dbh)\n",
    "print('_________SECONDARY SHORCU___________')\n",
    "summary(s_shorcu_df$dbh)"
   ]
  },
  {
   "cell_type": "markdown",
   "metadata": {},
   "source": [
    "### STREEL "
   ]
  },
  {
   "cell_type": "code",
   "execution_count": 43,
   "metadata": {},
   "outputs": [
    {
     "data": {
      "image/png": "[encoded data removed]",
      "text/plain": [
       "plot without title"
      ]
     },
     "metadata": {},
     "output_type": "display_data"
    }
   ],
   "source": [
    "streel_box1 <- ggplot(data = p_streel_df, aes(x = \"Primary Forest\", dbh)) + geom_boxplot() +\n",
    "  coord_cartesian(ylim = c(0, 100)) +\n",
    "  scale_y_continuous(breaks=seq(0,100,20))\n",
    "streel_box2 <- ggplot(data = s_streel_df, aes(x = \"Secondary Forest\", dbh)) + geom_boxplot() +\n",
    "  coord_cartesian(ylim = c(0, 100)) +\n",
    "  scale_y_continuous(breaks=seq(0,100,20))\n",
    "\n",
    "streel_plot <- ggarrange(streel_box1, streel_box2, ncol = 2) \n",
    "annotate_figure(streel_plot, top = text_grob(\"Distribution of dbh in Streblus Elongatus\", size = 14, face = 'bold'))"
   ]
  },
  {
   "cell_type": "markdown",
   "metadata": {},
   "source": [
    "### SHORCU"
   ]
  },
  {
   "cell_type": "code",
   "execution_count": 44,
   "metadata": {},
   "outputs": [
    {
     "data": {
      "image/png": "[encoded data removed]",
      "text/plain": [
       "plot without title"
      ]
     },
     "metadata": {},
     "output_type": "display_data"
    }
   ],
   "source": [
    "shorcu_box1 <- ggplot(data = p_shorcu_df, aes(x = \"Primary Forest\", dbh)) + geom_boxplot() +\n",
    "  coord_cartesian(ylim = c(0, 150)) +\n",
    "  scale_y_continuous(breaks=seq(0,150,25))\n",
    "shorcu_box2 <- ggplot(data = s_shorcu_df, aes(x = \"Secondary Forest\", dbh)) + geom_boxplot() +\n",
    "  coord_cartesian(ylim = c(0, 150)) +\n",
    "  scale_y_continuous(breaks=seq(0,150,25))\n",
    "\n",
    "shorcu_plot <- ggarrange(shorcu_box1, shorcu_box2, ncol = 2) \n",
    "annotate_figure(shorcu_plot, top = text_grob(\"Distribution of dbh in Shorea curtisii\", size = 14, face = 'bold'))"
   ]
  },
  {
   "cell_type": "markdown",
   "metadata": {},
   "source": [
    "## [Back to top](#Contents) "
   ]
  },
  {
   "cell_type": "markdown",
   "metadata": {},
   "source": [
    "# Task 3: Scatterplot plotting"
   ]
  },
  {
   "cell_type": "markdown",
   "metadata": {},
   "source": [
    "To show the spatial distribution of the two species STREEL and SHORCU \n",
    "- dbh as size\n",
    "- color different for top 25%"
   ]
  },
  {
   "cell_type": "markdown",
   "metadata": {},
   "source": [
    "### Primary Streel"
   ]
  },
  {
   "cell_type": "code",
   "execution_count": 45,
   "metadata": {},
   "outputs": [],
   "source": [
    "p_streel_df <- p_streel_df %>%\n",
    "    mutate(top_25 = if_else(dbh > 30, '>30 cm dbh', '10-30 cm dbh'))"
   ]
  },
  {
   "cell_type": "code",
   "execution_count": 46,
   "metadata": {},
   "outputs": [],
   "source": [
    "size_class <- factor(p_streel_df$top_25)"
   ]
  },
  {
   "cell_type": "code",
   "execution_count": 47,
   "metadata": {},
   "outputs": [
    {
     "data": {
      "image/png": "[encoded data removed]",
      "text/plain": [
       "plot without title"
      ]
     },
     "metadata": {},
     "output_type": "display_data"
    }
   ],
   "source": [
    "ggplot(p_streel_df, aes(x=gx, y=gy, size=dbh, color=size_class)) +\n",
    "    geom_point(alpha = 0.5) + \n",
    "    theme(legend.position = \"bottom\") + \n",
    "    labs(title = 'Spatial distribution of Streblus Elongatus in primary forest')\n",
    "\n",
    "ggsave(file=\"Sendable/primary_streel.png\", width=8, height=5, dpi=300)"
   ]
  },
  {
   "cell_type": "markdown",
   "metadata": {},
   "source": [
    "### Secondary Streel"
   ]
  },
  {
   "cell_type": "code",
   "execution_count": 51,
   "metadata": {},
   "outputs": [],
   "source": [
    "s_streel_df <- s_streel_df %>%\n",
    "    mutate(top_25 = if_else(dbh > 30, '>30 cm dbh', '10-30 cm dbh'))\n"
   ]
  },
  {
   "cell_type": "code",
   "execution_count": 52,
   "metadata": {},
   "outputs": [],
   "source": [
    "size_class <- factor(s_streel_df$top_25)"
   ]
  },
  {
   "cell_type": "code",
   "execution_count": 53,
   "metadata": {},
   "outputs": [
    {
     "data": {
      "image/png": "[encoded data removed]",
      "text/plain": [
       "plot without title"
      ]
     },
     "metadata": {},
     "output_type": "display_data"
    }
   ],
   "source": [
    "ggplot(s_streel_df, aes(x=gx, y=gy, size=dbh, color=size_class)) +\n",
    "    geom_point(alpha = 0.5) + \n",
    "    theme(legend.position = \"bottom\") + \n",
    "    labs(title = 'Spatial distribution of Streblus Elongatus in secondary forest') + \n",
    "    coord_cartesian(ylim = c(0, 170), xlim = c(0, 170)) \n",
    "\n",
    "ggsave(file=\"Sendable/secondary_streel.png\", width=7.5, height=7.5, dpi=300)"
   ]
  },
  {
   "cell_type": "markdown",
   "metadata": {},
   "source": [
    "### Primary SHORCU"
   ]
  },
  {
   "cell_type": "code",
   "execution_count": 57,
   "metadata": {},
   "outputs": [],
   "source": [
    "p_shorcu_df <- p_shorcu_df %>%\n",
    "    mutate(top_25 = if_else(dbh > 30, '>30 cm dbh', '10-30 cm dbh'))\n"
   ]
  },
  {
   "cell_type": "code",
   "execution_count": 58,
   "metadata": {},
   "outputs": [],
   "source": [
    "size_class <- factor(p_shorcu_df$top_25)"
   ]
  },
  {
   "cell_type": "code",
   "execution_count": 59,
   "metadata": {},
   "outputs": [
    {
     "data": {
      "image/png": "[encoded data removed]",
      "text/plain": [
       "plot without title"
      ]
     },
     "metadata": {},
     "output_type": "display_data"
    }
   ],
   "source": [
    "ggplot(p_shorcu_df, aes(x=gx, y=gy, size=dbh, color=size_class)) +\n",
    "    geom_point(alpha = 0.5) + \n",
    "    theme(legend.position = \"bottom\") + \n",
    "    labs(title = 'Spatial distribution of Shorea Curtisii in primary forest')\n",
    "\n",
    "ggsave(file=\"Sendable/primary_shorcu.png\", width=8, height=5, dpi=300)"
   ]
  },
  {
   "cell_type": "markdown",
   "metadata": {},
   "source": [
    "### Secondary SHORCU"
   ]
  },
  {
   "cell_type": "code",
   "execution_count": 60,
   "metadata": {},
   "outputs": [],
   "source": [
    "s_shorcu_df <- s_shorcu_df %>%\n",
    "    mutate(top_25 = if_else(dbh > 30, '>30 cm dbh', '10-30 cm dbh'))\n"
   ]
  },
  {
   "cell_type": "code",
   "execution_count": 61,
   "metadata": {},
   "outputs": [],
   "source": [
    "size_class <- factor(s_shorcu_df$top_25)"
   ]
  },
  {
   "cell_type": "code",
   "execution_count": 62,
   "metadata": {},
   "outputs": [
    {
     "data": {
      "image/png": "[encoded data removed]",
      "text/plain": [
       "plot without title"
      ]
     },
     "metadata": {},
     "output_type": "display_data"
    }
   ],
   "source": [
    "ggplot(s_shorcu_df, aes(x=gx, y=gy, size=dbh, color=size_class)) +\n",
    "    geom_point(alpha = 0.5) + \n",
    "    theme(legend.position = \"bottom\") + \n",
    "    labs(title = 'Spatial distribution of Shorea Curtisii in secondary forest') + \n",
    "    coord_cartesian(ylim = c(0, 150), xlim = c(0, 150))  \n",
    "\n",
    "ggsave(file=\"Sendable/secondary_shorcu.png\", width=7.5, height=7.5, dpi=300)"
   ]
  },
  {
   "cell_type": "markdown",
   "metadata": {},
   "source": [
    "## [Back to top](#Contents) "
   ]
  },
  {
   "cell_type": "markdown",
   "metadata": {},
   "source": [
    "# 7. Links for context"
   ]
  },
  {
   "cell_type": "markdown",
   "metadata": {},
   "source": [
    "1. [CTFS Documentation](http://ctfs.si.edu/Public/CTFSRPackage/)\n",
    "2. [Data Source](http://ctfs.si.edu/datarequest/index.php/main/region/tree/asia)"
   ]
  },
  {
   "cell_type": "markdown",
   "metadata": {},
   "source": [
    "<b>About Data</b>: The 2-ha Forest Dynamics Plot, established in 1993, lies within the Bukit Timah Nature Reserve, located in the center of the small island state of Singapore. The reserve encompasses approximately 125 ha of forest on the slopes of Bukit Timah hill, rising to 163 m above sea level. The reserve, two thirds of which is primary forest, lies in the center of the island, 8 km from the city center and adjacent to a highly developed urban area. Since 1985, a six-lane expressway has separated the nature reserve from a 2600-ha parcel of 50-year old secondary forest of the Central Water Catchment.\n",
    "The 2-ha plot is located in primary forest, just off of one of the reserve's major hiking trails. A second 2-ha Forest Dynamics Plot has been established nearby in secondary forest.\n",
    "The Bukit Timah Forest Dynamics Plot is a collaboration between the National Institute of Education of Nanyang Technological University and the Center for Tropical Forest Science."
   ]
  },
  {
   "cell_type": "markdown",
   "metadata": {},
   "source": [
    "#### Attribute Information"
   ]
  },
  {
   "cell_type": "markdown",
   "metadata": {},
   "source": [
    "| Variable | Meaning |\n",
    "|------|:------|\n",
    "|   tag  | Tag number used in the field |\n",
    "|   StemTag  | Tag number on the individual stem, if present. |\n",
    "|   treeID  | The unique tree identifier in CTFS database. Useful to be certain in matching trees. |\n",
    "|   stemID  | The unique stem identifier in CTFS database. Useful to be certain in matching stems. |\n",
    "|   sp  | The species mnemonic. Full Latin name can be found in the R Analytical Species Table (spptable) for each plot, or in the Taxonomy Report at http:/ctfs.arnarb.harvard.edu/CTFSReports. This mnemonic is crucial in joining various databases, for instance The Full Tree and Stem tables to the Species tables and Wood Density Table |\n",
    "|   quadrat  | Quadrat designation |\n",
    "|   gx  | The x coordinate within the plot, relative to one edge of the plot. |\n",
    "|   gy  | The y coordinate within the plot, relative to one edge of the plot.|\n",
    "|   MeasureID  | The unique identifier of a single measurement in the CTFS database. |\n",
    "| CensusID | The numeric identifier of the census. |\n",
    "| dbh | Diameter of the stem |\n",
    "| pom | The point-of-measure, where the diameter was taken, identical to hom, but a character variable with only 2 decimal places. |\n",
    "| ExactDate | The date on which the steam was measured. |\n",
    "| DFstatus | The status taken from the DFtemp table of the CTFS database: alive, dead, lost_stem, missing, or prior |\n",
    "| codes | The codes for the measurement as recorded in the field. |\n",
    "| status | An abbreviated version of status, for compatibility with earlier versions of functions in the CTFS R package; A, D, M, P |\n",
    "| date | The julian date, for date arithmetic. |\n",
    "| agb | Above-ground-biomass of the stem, in Mg (= metric tons or 10^6 grams). Some are NA. |\n",
    "| hom | The height-of-measure, identical to pom but a numeric variable with full precision. |\n",
    "| nostems | The number of living stems on the date of measurement. |"
   ]
  },
  {
   "cell_type": "markdown",
   "metadata": {},
   "source": [
    "## [Back to top](#Contents) "
   ]
  }
 ],
 "metadata": {
  "kernelspec": {
   "display_name": "R",
   "language": "R",
   "name": "ir"
  },
  "language_info": {
   "codemirror_mode": "r",
   "file_extension": ".r",
   "mimetype": "text/x-r-source",
   "name": "R",
   "pygments_lexer": "r",
   "version": "3.6.1"
  }
 },
 "nbformat": 4,
 "nbformat_minor": 2
}
